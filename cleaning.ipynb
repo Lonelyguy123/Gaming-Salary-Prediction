{
 "cells": [
  {
   "cell_type": "markdown",
   "id": "20da3370",
   "metadata": {},
   "source": [
    "*Let us import all the required libraries, (we'll keep adding here when we need something)*"
   ]
  },
  {
   "cell_type": "code",
   "execution_count": 42,
   "id": "907f6eaf",
   "metadata": {},
   "outputs": [
    {
     "data": {
      "text/plain": [
       "'\\nUse cntrl + shift + - to split cells at the cursor, very useful and time saving\\n'"
      ]
     },
     "execution_count": 42,
     "metadata": {},
     "output_type": "execute_result"
    }
   ],
   "source": [
    "import pandas as pd\n",
    "import numpy as np\n",
    "\n",
    "'''\n",
    "Use cntrl + shift + - to split cells at the cursor, very useful and time saving\n",
    "'''"
   ]
  },
  {
   "cell_type": "markdown",
   "id": "a63789b4",
   "metadata": {},
   "source": [
    "*Let us understand the dataset deeply by printing its related stats and some rows*"
   ]
  },
  {
   "cell_type": "code",
   "execution_count": 43,
   "id": "e54b808d",
   "metadata": {},
   "outputs": [
    {
     "name": "stdout",
     "output_type": "stream",
     "text": [
      "Dataset info:\n",
      "\n",
      "<class 'pandas.core.frame.DataFrame'>\n",
      "RangeIndex: 4009 entries, 0 to 4008\n",
      "Data columns (total 12 columns):\n",
      " #   Column        Non-Null Count  Dtype \n",
      "---  ------        --------------  ----- \n",
      " 0   brand         4009 non-null   object\n",
      " 1   model         4009 non-null   object\n",
      " 2   model_year    4009 non-null   int64 \n",
      " 3   milage        4009 non-null   object\n",
      " 4   fuel_type     3839 non-null   object\n",
      " 5   engine        4009 non-null   object\n",
      " 6   transmission  4009 non-null   object\n",
      " 7   ext_col       4009 non-null   object\n",
      " 8   int_col       4009 non-null   object\n",
      " 9   accident      3896 non-null   object\n",
      " 10  clean_title   3413 non-null   object\n",
      " 11  price         4009 non-null   object\n",
      "dtypes: int64(1), object(11)\n",
      "memory usage: 376.0+ KB\n",
      "None\n",
      "\n",
      "Dataset description:\n",
      "\n",
      "       brand    model   model_year       milage fuel_type  \\\n",
      "count   4009     4009  4009.000000         4009      3839   \n",
      "unique    57     1898          NaN         2818         7   \n",
      "top     Ford  M3 Base          NaN  110,000 mi.  Gasoline   \n",
      "freq     386       30          NaN           16      3309   \n",
      "mean     NaN      NaN  2015.515590          NaN       NaN   \n",
      "std      NaN      NaN     6.104816          NaN       NaN   \n",
      "min      NaN      NaN  1974.000000          NaN       NaN   \n",
      "25%      NaN      NaN  2012.000000          NaN       NaN   \n",
      "50%      NaN      NaN  2017.000000          NaN       NaN   \n",
      "75%      NaN      NaN  2020.000000          NaN       NaN   \n",
      "max      NaN      NaN  2024.000000          NaN       NaN   \n",
      "\n",
      "                            engine transmission ext_col int_col  \\\n",
      "count                         4009         4009    4009    4009   \n",
      "unique                        1146           62     319     156   \n",
      "top     2.0L I4 16V GDI DOHC Turbo          A/T   Black   Black   \n",
      "freq                            52         1037     905    2025   \n",
      "mean                           NaN          NaN     NaN     NaN   \n",
      "std                            NaN          NaN     NaN     NaN   \n",
      "min                            NaN          NaN     NaN     NaN   \n",
      "25%                            NaN          NaN     NaN     NaN   \n",
      "50%                            NaN          NaN     NaN     NaN   \n",
      "75%                            NaN          NaN     NaN     NaN   \n",
      "max                            NaN          NaN     NaN     NaN   \n",
      "\n",
      "             accident clean_title    price  \n",
      "count            3896        3413     4009  \n",
      "unique              2           1     1569  \n",
      "top     None reported         Yes  $15,000  \n",
      "freq             2910        3413       39  \n",
      "mean              NaN         NaN      NaN  \n",
      "std               NaN         NaN      NaN  \n",
      "min               NaN         NaN      NaN  \n",
      "25%               NaN         NaN      NaN  \n",
      "50%               NaN         NaN      NaN  \n",
      "75%               NaN         NaN      NaN  \n",
      "max               NaN         NaN      NaN  \n",
      "\n",
      "First 5 rows of the dataset:\n",
      "\n",
      "      brand                            model  model_year      milage  \\\n",
      "0      Ford  Utility Police Interceptor Base        2013  51,000 mi.   \n",
      "1   Hyundai                     Palisade SEL        2021  34,742 mi.   \n",
      "2     Lexus                    RX 350 RX 350        2022  22,372 mi.   \n",
      "3  INFINITI                 Q50 Hybrid Sport        2015  88,900 mi.   \n",
      "4      Audi        Q3 45 S line Premium Plus        2021   9,835 mi.   \n",
      "\n",
      "       fuel_type                                             engine  \\\n",
      "0  E85 Flex Fuel  300.0HP 3.7L V6 Cylinder Engine Flex Fuel Capa...   \n",
      "1       Gasoline                               3.8L V6 24V GDI DOHC   \n",
      "2       Gasoline                                     3.5 Liter DOHC   \n",
      "3         Hybrid  354.0HP 3.5L V6 Cylinder Engine Gas/Electric H...   \n",
      "4       Gasoline                         2.0L I4 16V GDI DOHC Turbo   \n",
      "\n",
      "        transmission                 ext_col int_col  \\\n",
      "0        6-Speed A/T                   Black   Black   \n",
      "1  8-Speed Automatic         Moonlight Cloud    Gray   \n",
      "2          Automatic                    Blue   Black   \n",
      "3        7-Speed A/T                   Black   Black   \n",
      "4  8-Speed Automatic  Glacier White Metallic   Black   \n",
      "\n",
      "                                 accident clean_title    price  \n",
      "0  At least 1 accident or damage reported         Yes  $10,300  \n",
      "1  At least 1 accident or damage reported         Yes  $38,005  \n",
      "2                           None reported         NaN  $54,598  \n",
      "3                           None reported         Yes  $15,500  \n",
      "4                           None reported         NaN  $34,999  \n"
     ]
    }
   ],
   "source": [
    "df = pd.read_csv('used_cars.csv')\n",
    "print(\"Dataset info:\\n\")\n",
    "\n",
    "print(df.info())\n",
    "\n",
    "print(\"\\nDataset description:\\n\")\n",
    "\n",
    "print(df.describe(include='all'))\n",
    "\n",
    "print(\"\\nFirst 5 rows of the dataset:\\n\")\n",
    "\n",
    "print(df.head())\n",
    "\n"
   ]
  },
  {
   "cell_type": "code",
   "execution_count": 44,
   "id": "d3978727",
   "metadata": {},
   "outputs": [
    {
     "name": "stdout",
     "output_type": "stream",
     "text": [
      "\n",
      "Columns after renaming:\n",
      "\n",
      "Index(['brand', 'model', 'model_year', 'mileage', 'fuel_type', 'engine',\n",
      "       'transmission', 'exterior_color', 'interior_col', 'accident',\n",
      "       'clean_title', 'price'],\n",
      "      dtype='object')\n",
      "\n",
      "Mileage column after cleaning:\n",
      "\n",
      "0    51000\n",
      "1    34742\n",
      "2    22372\n",
      "3    88900\n",
      "4     9835\n",
      "Name: mileage, dtype: int64\n"
     ]
    }
   ],
   "source": [
    "'''\n",
    "Rename milage to mileage and other columns for more clarity\n",
    "'''\n",
    "\n",
    "df.rename(columns={'milage': 'mileage','int_col':'interior_col','ext_col':'exterior_color'}, inplace=True)\n",
    "print(\"\\nColumns after renaming:\\n\")\n",
    "print(df.columns)\n",
    "\n",
    "'''\n",
    "Splitting the mileage column to extract only the numeric part and convert it to integer\n",
    "But it did'nt work the first time just because the mileage written was \n",
    "'65,000 mi.' and the comma was creating problem while converting to integer\n",
    "So we will first remove the comma and then split the string to get only the numeric part\n",
    "'''\n",
    "\n",
    "df['mileage'] = df['mileage'].str.split(' ').str[0]\n",
    "df['mileage'] = df['mileage'].str.replace(',', '').astype(int)\n",
    "'''\n",
    "Can also do df['mileage'] = df['mileage'].str.split(',')\n",
    "But this won't work for multiple commas in the number like 1,00,000\n",
    "'''\n",
    "print(\"\\nMileage column after cleaning:\\n\")\n",
    "print(df['mileage'].head())"
   ]
  },
  {
   "cell_type": "code",
   "execution_count": 45,
   "id": "ddf8c056",
   "metadata": {},
   "outputs": [
    {
     "name": "stdout",
     "output_type": "stream",
     "text": [
      "\n",
      "Null values in each column:\n",
      "\n",
      "brand               0\n",
      "model               0\n",
      "model_year          0\n",
      "mileage             0\n",
      "fuel_type         170\n",
      "engine              0\n",
      "transmission        0\n",
      "exterior_color      0\n",
      "interior_col        0\n",
      "accident          113\n",
      "clean_title       596\n",
      "price               0\n",
      "dtype: int64\n"
     ]
    }
   ],
   "source": [
    "'''\n",
    "Checking null values\n",
    "'''\n",
    "print(\"\\nNull values in each column:\\n\")\n",
    "print(df.isnull().sum())\n",
    "\n"
   ]
  },
  {
   "cell_type": "code",
   "execution_count": 46,
   "id": "0a1c94fa",
   "metadata": {},
   "outputs": [
    {
     "name": "stderr",
     "output_type": "stream",
     "text": [
      "C:\\Users\\shast\\AppData\\Local\\Temp\\ipykernel_3680\\2577823776.py:5: FutureWarning: A value is trying to be set on a copy of a DataFrame or Series through chained assignment using an inplace method.\n",
      "The behavior will change in pandas 3.0. This inplace method will never work because the intermediate object on which we are setting values always behaves as a copy.\n",
      "\n",
      "For example, when doing 'df[col].method(value, inplace=True)', try using 'df.method({col: value}, inplace=True)' or df[col] = df[col].method(value) instead, to perform the operation inplace on the original object.\n",
      "\n",
      "\n",
      "  df['clean_title'].fillna('No', inplace=True)\n"
     ]
    }
   ],
   "source": [
    "\n",
    "'''\n",
    "handling missing values in clean title\n",
    "'''\n",
    "\n",
    "df['clean_title'].fillna('No', inplace=True)\n"
   ]
  },
  {
   "cell_type": "code",
   "execution_count": 47,
   "id": "22d470e8",
   "metadata": {},
   "outputs": [
    {
     "name": "stdout",
     "output_type": "stream",
     "text": [
      "['E85 Flex Fuel' 'Gasoline' 'Hybrid' nan 'Diesel' 'Plug-In Hybrid' '–'\n",
      " 'not supported']\n",
      "fuel_type\n",
      "Gasoline          3309\n",
      "Hybrid             194\n",
      "E85 Flex Fuel      139\n",
      "Diesel             116\n",
      "–                   45\n",
      "Plug-In Hybrid      34\n",
      "not supported        2\n",
      "Name: count, dtype: int64\n"
     ]
    }
   ],
   "source": [
    "\n",
    "\n",
    "'''\n",
    "Handling missing values in fuel_type\n",
    "'''\n",
    "\n",
    "print(df.fuel_type.unique())\n",
    "\n",
    "print(df.fuel_type.value_counts())\n"
   ]
  },
  {
   "cell_type": "code",
   "execution_count": 48,
   "id": "55412f12",
   "metadata": {},
   "outputs": [
    {
     "name": "stdout",
     "output_type": "stream",
     "text": [
      "\n",
      "Unique values in fuel_type after handling missing and invalid values:\n",
      "\n",
      "['E85 Flex Fuel' 'Gasoline' 'Hybrid' 'Diesel' 'Plug-In Hybrid']\n"
     ]
    }
   ],
   "source": [
    "\n",
    "'''\n",
    "Filling the missing values in fuel_type with the most freuent value a.k.a mode - Gasoline has much more\n",
    "entries that any other value in the fuel_type column which makes it very clear that this is a statistically sound\n",
    "decision from us\n",
    "'''\n",
    "\n",
    "df.fillna({'fuel_type': 'Gasoline'}, inplace=True)\n",
    "\n",
    "'''\n",
    "Not forgetting to handle '-' values and 'not supported' values in the fuel_type column\n",
    "'''\n",
    "df['fuel_type'] = df['fuel_type'].replace(\n",
    "    {'-': 'Gasoline', 'not supported': 'Gasoline', '–': 'Gasoline'}\n",
    ")\n",
    "\n",
    "print(\"\\nUnique values in fuel_type after handling missing and invalid values:\\n\")\n",
    "print(df.fuel_type.unique())"
   ]
  },
  {
   "cell_type": "code",
   "execution_count": 49,
   "id": "b1d30a13",
   "metadata": {},
   "outputs": [
    {
     "name": "stdout",
     "output_type": "stream",
     "text": [
      "113\n"
     ]
    },
    {
     "name": "stderr",
     "output_type": "stream",
     "text": [
      "C:\\Users\\shast\\AppData\\Local\\Temp\\ipykernel_3680\\1888148025.py:16: FutureWarning: A value is trying to be set on a copy of a DataFrame or Series through chained assignment using an inplace method.\n",
      "The behavior will change in pandas 3.0. This inplace method will never work because the intermediate object on which we are setting values always behaves as a copy.\n",
      "\n",
      "For example, when doing 'df[col].method(value, inplace=True)', try using 'df.method({col: value}, inplace=True)' or df[col] = df[col].method(value) instead, to perform the operation inplace on the original object.\n",
      "\n",
      "\n",
      "  df.accident.fillna('Unknown', inplace=True)\n"
     ]
    }
   ],
   "source": [
    "'''\n",
    "Handling missing values in the accident column\n",
    "'''\n",
    "print(df['accident'].isnull().sum())\n",
    "\n",
    "df['accident'].value_counts()\n",
    "\n",
    "'''\n",
    "Filling the missing values in accident column with the most frequent value - No because both values are \n",
    "significant - no accident reported and atleast 1 accident reported but No has a higher count, nonetheless \n",
    "both are significant and we cannot drop the rows with missing values because that would lead to loss of valuable data\n",
    "it is dangerous to assume there was no accident for the other cars and it is not ethical either to assume there\n",
    "was an accident, so we will just add unkown to the missing values\n",
    "'''\n",
    "\n",
    "df.accident.fillna('Unknown', inplace=True)\n",
    "\n"
   ]
  },
  {
   "cell_type": "code",
   "execution_count": 51,
   "id": "982a1789",
   "metadata": {},
   "outputs": [
    {
     "name": "stdout",
     "output_type": "stream",
     "text": [
      "\n",
      "Null values in each column after handling missing values:\n",
      "\n",
      "brand             0\n",
      "model             0\n",
      "model_year        0\n",
      "mileage           0\n",
      "fuel_type         0\n",
      "engine            0\n",
      "transmission      0\n",
      "exterior_color    0\n",
      "interior_col      0\n",
      "accident          0\n",
      "clean_title       0\n",
      "price             0\n",
      "dtype: int64\n"
     ]
    }
   ],
   "source": [
    "'''\n",
    "THE END OF MISSING VALUES HANDLING \n",
    "Handled -\n",
    "1.clean_title\n",
    "2.fuel_type\n",
    "3.accident\n",
    "'''\n",
    "\n",
    "# Let's print the null values again to confirm there are no more null values\n",
    "print(\"\\nNull values in each column after handling missing values:\\n\")\n",
    "print(df.isnull().sum())\n",
    "\n",
    "\n",
    "'''\n",
    "Let us save the cleaned data to a new excel file\n",
    "'''\n",
    "\n",
    "df.to_excel('First_Step-handled_null_values.xlsx', index=False)"
   ]
  }
 ],
 "metadata": {
  "kernelspec": {
   "display_name": "base",
   "language": "python",
   "name": "python3"
  },
  "language_info": {
   "codemirror_mode": {
    "name": "ipython",
    "version": 3
   },
   "file_extension": ".py",
   "mimetype": "text/x-python",
   "name": "python",
   "nbconvert_exporter": "python",
   "pygments_lexer": "ipython3",
   "version": "3.13.5"
  }
 },
 "nbformat": 4,
 "nbformat_minor": 5
}
