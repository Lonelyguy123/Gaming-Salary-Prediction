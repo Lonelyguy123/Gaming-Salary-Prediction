{
 "cells": [
  {
   "cell_type": "markdown",
   "id": "20da3370",
   "metadata": {},
   "source": [
    "*Let us import all the required libraries, (we'll keep adding here when we need something)*"
   ]
  },
  {
   "cell_type": "code",
   "execution_count": 1,
   "id": "907f6eaf",
   "metadata": {},
   "outputs": [],
   "source": [
    "import pandas as pd\n",
    "import numpy as np"
   ]
  },
  {
   "cell_type": "markdown",
   "id": "a63789b4",
   "metadata": {},
   "source": [
    "*Let us understand the dataset deeply by printing its related stats and some rows*"
   ]
  },
  {
   "cell_type": "code",
   "execution_count": 3,
   "id": "e54b808d",
   "metadata": {},
   "outputs": [
    {
     "name": "stdout",
     "output_type": "stream",
     "text": [
      "Dataset info:\n",
      "\n",
      "<class 'pandas.core.frame.DataFrame'>\n",
      "RangeIndex: 4009 entries, 0 to 4008\n",
      "Data columns (total 12 columns):\n",
      " #   Column        Non-Null Count  Dtype \n",
      "---  ------        --------------  ----- \n",
      " 0   brand         4009 non-null   object\n",
      " 1   model         4009 non-null   object\n",
      " 2   model_year    4009 non-null   int64 \n",
      " 3   milage        4009 non-null   object\n",
      " 4   fuel_type     3839 non-null   object\n",
      " 5   engine        4009 non-null   object\n",
      " 6   transmission  4009 non-null   object\n",
      " 7   ext_col       4009 non-null   object\n",
      " 8   int_col       4009 non-null   object\n",
      " 9   accident      3896 non-null   object\n",
      " 10  clean_title   3413 non-null   object\n",
      " 11  price         4009 non-null   object\n",
      "dtypes: int64(1), object(11)\n",
      "memory usage: 376.0+ KB\n",
      "None\n",
      "\n",
      "Dataset description:\n",
      "\n",
      "       brand    model   model_year       milage fuel_type  \\\n",
      "count   4009     4009  4009.000000         4009      3839   \n",
      "unique    57     1898          NaN         2818         7   \n",
      "top     Ford  M3 Base          NaN  110,000 mi.  Gasoline   \n",
      "freq     386       30          NaN           16      3309   \n",
      "mean     NaN      NaN  2015.515590          NaN       NaN   \n",
      "std      NaN      NaN     6.104816          NaN       NaN   \n",
      "min      NaN      NaN  1974.000000          NaN       NaN   \n",
      "25%      NaN      NaN  2012.000000          NaN       NaN   \n",
      "50%      NaN      NaN  2017.000000          NaN       NaN   \n",
      "75%      NaN      NaN  2020.000000          NaN       NaN   \n",
      "max      NaN      NaN  2024.000000          NaN       NaN   \n",
      "\n",
      "                            engine transmission ext_col int_col  \\\n",
      "count                         4009         4009    4009    4009   \n",
      "unique                        1146           62     319     156   \n",
      "top     2.0L I4 16V GDI DOHC Turbo          A/T   Black   Black   \n",
      "freq                            52         1037     905    2025   \n",
      "mean                           NaN          NaN     NaN     NaN   \n",
      "std                            NaN          NaN     NaN     NaN   \n",
      "min                            NaN          NaN     NaN     NaN   \n",
      "25%                            NaN          NaN     NaN     NaN   \n",
      "50%                            NaN          NaN     NaN     NaN   \n",
      "75%                            NaN          NaN     NaN     NaN   \n",
      "max                            NaN          NaN     NaN     NaN   \n",
      "\n",
      "             accident clean_title    price  \n",
      "count            3896        3413     4009  \n",
      "unique              2           1     1569  \n",
      "top     None reported         Yes  $15,000  \n",
      "freq             2910        3413       39  \n",
      "mean              NaN         NaN      NaN  \n",
      "std               NaN         NaN      NaN  \n",
      "min               NaN         NaN      NaN  \n",
      "25%               NaN         NaN      NaN  \n",
      "50%               NaN         NaN      NaN  \n",
      "75%               NaN         NaN      NaN  \n",
      "max               NaN         NaN      NaN  \n",
      "\n",
      "First 5 rows of the dataset:\n",
      "\n",
      "      brand                            model  model_year      milage  \\\n",
      "0      Ford  Utility Police Interceptor Base        2013  51,000 mi.   \n",
      "1   Hyundai                     Palisade SEL        2021  34,742 mi.   \n",
      "2     Lexus                    RX 350 RX 350        2022  22,372 mi.   \n",
      "3  INFINITI                 Q50 Hybrid Sport        2015  88,900 mi.   \n",
      "4      Audi        Q3 45 S line Premium Plus        2021   9,835 mi.   \n",
      "\n",
      "       fuel_type                                             engine  \\\n",
      "0  E85 Flex Fuel  300.0HP 3.7L V6 Cylinder Engine Flex Fuel Capa...   \n",
      "1       Gasoline                               3.8L V6 24V GDI DOHC   \n",
      "2       Gasoline                                     3.5 Liter DOHC   \n",
      "3         Hybrid  354.0HP 3.5L V6 Cylinder Engine Gas/Electric H...   \n",
      "4       Gasoline                         2.0L I4 16V GDI DOHC Turbo   \n",
      "\n",
      "        transmission                 ext_col int_col  \\\n",
      "0        6-Speed A/T                   Black   Black   \n",
      "1  8-Speed Automatic         Moonlight Cloud    Gray   \n",
      "2          Automatic                    Blue   Black   \n",
      "3        7-Speed A/T                   Black   Black   \n",
      "4  8-Speed Automatic  Glacier White Metallic   Black   \n",
      "\n",
      "                                 accident clean_title    price  \n",
      "0  At least 1 accident or damage reported         Yes  $10,300  \n",
      "1  At least 1 accident or damage reported         Yes  $38,005  \n",
      "2                           None reported         NaN  $54,598  \n",
      "3                           None reported         Yes  $15,500  \n",
      "4                           None reported         NaN  $34,999  \n"
     ]
    }
   ],
   "source": [
    "df = pd.read_csv('used_cars.csv')\n",
    "print(\"Dataset info:\\n\")\n",
    "\n",
    "print(df.info())\n",
    "\n",
    "print(\"\\nDataset description:\\n\")\n",
    "\n",
    "print(df.describe(include='all'))\n",
    "\n",
    "print(\"\\nFirst 5 rows of the dataset:\\n\")\n",
    "\n",
    "print(df.head())\n",
    "\n"
   ]
  }
 ],
 "metadata": {
  "kernelspec": {
   "display_name": "base",
   "language": "python",
   "name": "python3"
  },
  "language_info": {
   "codemirror_mode": {
    "name": "ipython",
    "version": 3
   },
   "file_extension": ".py",
   "mimetype": "text/x-python",
   "name": "python",
   "nbconvert_exporter": "python",
   "pygments_lexer": "ipython3",
   "version": "3.13.5"
  }
 },
 "nbformat": 4,
 "nbformat_minor": 5
}
